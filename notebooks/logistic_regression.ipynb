{
 "cells": [
  {
   "cell_type": "code",
   "execution_count": 2,
   "id": "a1836610",
   "metadata": {},
   "outputs": [],
   "source": [
    "import os\n",
    "\n",
    "import joblib\n",
    "import mlflow\n",
    "import mlflow.sklearn\n",
    "import pandas as pd\n",
    "from sklearn.linear_model import LogisticRegression\n",
    "from sklearn.model_selection import StratifiedKFold"
   ]
  },
  {
   "cell_type": "code",
   "execution_count": null,
   "id": "9b2ea348",
   "metadata": {},
   "outputs": [
    {
     "name": "stdout",
     "output_type": "stream",
     "text": [
      "['processed_data_pt_mi.parquet', 'processed_data_std_sfs.parquet', 'processed_data_std_mi.parquet', 'processed_data_minmax_sfs.parquet', 'processed_data_minmax_all.parquet', 'processed_data_std_all.parquet', 'raw_data.csv', 'processed_data_qt_mi.parquet', 'processed_data_pt_sfs.parquet', 'processed_data_qt_all.parquet', 'processed_data_minmax_mi.parquet', 'processed_data_qt_sfs.parquet', 'processed_data_pt_all.parquet']\n"
     ]
    }
   ],
   "source": [
    "data_path = os.path.join(\n",
    "    os.path.dirname(os.getcwd()),\n",
    "    \"data\",\n",
    ")\n",
    "files = [f for f in os.listdir(data_path) if os.path.isfile(os.path.join(data_path, f))]\n",
    "print(files)"
   ]
  },
  {
   "cell_type": "code",
   "execution_count": 3,
   "id": "d879a492",
   "metadata": {},
   "outputs": [
    {
     "name": "stdout",
     "output_type": "stream",
     "text": [
      "<class 'pandas.core.frame.DataFrame'>\n",
      "RangeIndex: 501 entries, 0 to 500\n",
      "Data columns (total 9 columns):\n",
      " #   Column              Non-Null Count  Dtype   \n",
      "---  ------              --------------  -----   \n",
      " 0   radius2             501 non-null    float64 \n",
      " 1   texture2            501 non-null    float64 \n",
      " 2   perimeter2          501 non-null    float64 \n",
      " 3   area2               501 non-null    float64 \n",
      " 4   concavity2          501 non-null    float64 \n",
      " 5   concave_points2     501 non-null    float64 \n",
      " 6   symmetry2           501 non-null    float64 \n",
      " 7   fractal_dimension2  501 non-null    float64 \n",
      " 8   Diagnosis           501 non-null    category\n",
      "dtypes: category(1), float64(8)\n",
      "memory usage: 32.1 KB\n"
     ]
    }
   ],
   "source": [
    "data_path = os.path.join(\n",
    "    os.path.dirname(os.getcwd()), \"data\", \"processed_data_minmax_all.parquet\"\n",
    ")\n",
    "df = pd.read_parquet(data_path)\n",
    "df[\"Diagnosis\"] = df[\"Diagnosis\"].astype(\"category\")\n",
    "df.info()"
   ]
  }
 ],
 "metadata": {
  "kernelspec": {
   "display_name": ".venv (3.12.10)",
   "language": "python",
   "name": "python3"
  },
  "language_info": {
   "codemirror_mode": {
    "name": "ipython",
    "version": 3
   },
   "file_extension": ".py",
   "mimetype": "text/x-python",
   "name": "python",
   "nbconvert_exporter": "python",
   "pygments_lexer": "ipython3",
   "version": "3.12.10"
  }
 },
 "nbformat": 4,
 "nbformat_minor": 5
}
